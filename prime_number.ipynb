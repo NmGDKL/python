{
 "cells": [
  {
   "cell_type": "code",
   "execution_count": null,
   "id": "31adc5c9-1763-4ae8-b5f4-44267556534d",
   "metadata": {},
   "outputs": [],
   "source": [
    "def prime_number(naim):\n",
    "    bölen = [i for i in range(1, naim + 1) if naim % i == 0]\n",
    "    print(bölen)\n",
    "    print(naim, \"is a prime number\" if len(bölen) == 2 else \"is not a prime number\")\n",
    "\n",
    "\n",
    "prime_number(int(input(\"\")))"
   ]
  }
 ],
 "metadata": {
  "kernelspec": {
   "display_name": "Python 3",
   "language": "python",
   "name": "python3"
  },
  "language_info": {
   "codemirror_mode": {
    "name": "ipython",
    "version": 3
   },
   "file_extension": ".py",
   "mimetype": "text/x-python",
   "name": "python",
   "nbconvert_exporter": "python",
   "pygments_lexer": "ipython3",
   "version": "3.8.8"
  }
 },
 "nbformat": 4,
 "nbformat_minor": 5
}
