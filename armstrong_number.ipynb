{
 "cells": [
  {
   "cell_type": "code",
   "execution_count": null,
   "id": "07376ecf-804e-41b4-b567-71e1c239a448",
   "metadata": {},
   "outputs": [],
   "source": [
    "def amstrong(girdi):\n",
    "    toplam = 0\n",
    "    if int(girdi):\n",
    "        for k in str(girdi):\n",
    "             toplam += int(k) ** len(girdi)\n",
    "        if toplam == int(girdi):\n",
    "            print(\"Girdiğiniz Sayı Bir Armstrong Sayıdır!\")\n",
    "        else:\n",
    "            print(\"Girdiğiniz Sayı Armstrong Bir Sayı Değildir!\")\n",
    "\n",
    "            \n",
    "num = input(\"Sayı girin: \")\n",
    "liste = [i for i in num if i not in list(\"0123456789\")]\n",
    "if len(liste) != 0:\n",
    "    print(\"It is an invalid entry. Don't use non-numeric, float, or negative values!\")\n",
    "else:\n",
    "    amstrong(num)"
   ]
  },
  {
   "cell_type": "code",
   "execution_count": null,
   "id": "1beca8df-8956-4b2a-8941-f4c81a9d07d6",
   "metadata": {},
   "outputs": [],
   "source": []
  }
 ],
 "metadata": {
  "kernelspec": {
   "display_name": "Python 3",
   "language": "python",
   "name": "python3"
  },
  "language_info": {
   "codemirror_mode": {
    "name": "ipython",
    "version": 3
   },
   "file_extension": ".py",
   "mimetype": "text/x-python",
   "name": "python",
   "nbconvert_exporter": "python",
   "pygments_lexer": "ipython3",
   "version": "3.8.8"
  }
 },
 "nbformat": 4,
 "nbformat_minor": 5
}
