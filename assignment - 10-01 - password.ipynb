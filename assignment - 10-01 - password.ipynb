{
 "cells": [
  {
   "cell_type": "code",
   "execution_count": 9,
   "id": "8f51984b-1f5f-4743-be3c-020b63dd8a17",
   "metadata": {},
   "outputs": [
    {
     "name": "stdin",
     "output_type": "stream",
     "text": [
      " naim\n"
     ]
    },
    {
     "name": "stdout",
     "output_type": "stream",
     "text": [
      "Hello, Naim! The password is : W@12\n"
     ]
    }
   ],
   "source": [
    "n = input(\"\").title()\n",
    "if n == \"Naim\":\n",
    "    print(\"Hello, Naim! The password is : W@12\",)\n",
    "else:\n",
    "    print(\"Hello, {} See you later.\".format(n))\n"
   ]
  },
  {
   "cell_type": "code",
   "execution_count": null,
   "id": "be0d77f7-4c46-414a-af04-5317dd5e9f16",
   "metadata": {},
   "outputs": [],
   "source": []
  }
 ],
 "metadata": {
  "kernelspec": {
   "display_name": "Python 3",
   "language": "python",
   "name": "python3"
  },
  "language_info": {
   "codemirror_mode": {
    "name": "ipython",
    "version": 3
   },
   "file_extension": ".py",
   "mimetype": "text/x-python",
   "name": "python",
   "nbconvert_exporter": "python",
   "pygments_lexer": "ipython3",
   "version": "3.8.8"
  }
 },
 "nbformat": 4,
 "nbformat_minor": 5
}
